{
 "cells": [
  {
   "cell_type": "markdown",
   "metadata": {},
   "source": [
    "### A square of squares\n",
    "     You like building blocks. You especially like building blocks that are squares. And what you even like more, is  to arrange them into a square of square building blocks!\n",
    "\n",
    "    However, sometimes, you can't arrange them into a square. Instead, you end up with an ordinary rectangle! Those blasted things! If you just had a way to know, whether you're currently working in vain… Wait! That's it! You just have to check if your number of building blocks is a perfect square.\n",
    "\n",
    "###  Task\n",
    "* Given an integral number, determine if it's a square number:\n",
    "\n",
    "**In mathematics, a square number or perfect square is an integer that is the square of an integer; in other words, it is the product of some integer with itself**\n",
    "\n",
    "The tests will always use some integral number, so don't worry about that in dynamic typed languages.\n",
    "\n"
   ]
  },
  {
   "cell_type": "code",
   "execution_count": 196,
   "metadata": {},
   "outputs": [],
   "source": [
    "def is_square(n):   # function name given by codewars  \n",
    "    num = n**0.5\n",
    "    if n > 0:\n",
    "        if int(num)/num == 1:\n",
    "            if num**2 == (num - 1)**2 + (2* num - 1) + num or num**2 == n:\n",
    "                return True\n",
    "            else:\n",
    "                return False\n",
    "        else:\n",
    "            return False\n",
    "    else:\n",
    "        return False"
   ]
  },
  {
   "cell_type": "code",
   "execution_count": 197,
   "metadata": {},
   "outputs": [
    {
     "data": {
      "text/plain": [
       "True"
      ]
     },
     "execution_count": 197,
     "metadata": {},
     "output_type": "execute_result"
    }
   ],
   "source": [
    "is_square(25)"
   ]
  },
  {
   "cell_type": "code",
   "execution_count": 207,
   "metadata": {},
   "outputs": [
    {
     "data": {
      "text/plain": [
       "False"
      ]
     },
     "execution_count": 207,
     "metadata": {},
     "output_type": "execute_result"
    }
   ],
   "source": [
    "is_square(26)"
   ]
  },
  {
   "cell_type": "code",
   "execution_count": 208,
   "metadata": {},
   "outputs": [
    {
     "data": {
      "text/plain": [
       "False"
      ]
     },
     "execution_count": 208,
     "metadata": {},
     "output_type": "execute_result"
    }
   ],
   "source": [
    "is_square(-3)"
   ]
  },
  {
   "cell_type": "code",
   "execution_count": 209,
   "metadata": {},
   "outputs": [
    {
     "data": {
      "text/plain": [
       "False"
      ]
     },
     "execution_count": 209,
     "metadata": {},
     "output_type": "execute_result"
    }
   ],
   "source": [
    "is_square(3)"
   ]
  },
  {
   "cell_type": "code",
   "execution_count": 210,
   "metadata": {
    "scrolled": true
   },
   "outputs": [
    {
     "data": {
      "text/plain": [
       "False"
      ]
     },
     "execution_count": 210,
     "metadata": {},
     "output_type": "execute_result"
    }
   ],
   "source": [
    "is_square(876479018)"
   ]
  },
  {
   "cell_type": "markdown",
   "metadata": {},
   "source": [
    "### Your task is to create a function that does four basic mathematical operations.\n",
    "\n",
    "* The function should take three arguments - operation(string/char), value1(number), value2(number).\n",
    "* The function should return result of numbers after applying the chosen operation.\n",
    "\n",
    "### Examples:\n",
    "    \n",
    "    basic_op('+', 4, 7)         # Output: 11\n",
    "    basic_op('-', 15, 18)       # Output: -3\n",
    "    basic_op('*', 5, 5)         # Output: 25\n",
    "    basic_op('/', 49, 7)        # Output: 7\n",
    "    "
   ]
  },
  {
   "cell_type": "code",
   "execution_count": 217,
   "metadata": {},
   "outputs": [],
   "source": [
    "def basic_op(operator, value1, value2):\n",
    "    for op in operator:\n",
    "        if op == '+':\n",
    "            return (value1 + value2)\n",
    "        elif op == '/':\n",
    "            return (value1/value2)\n",
    "        elif op == '*':\n",
    "            return (value1*value2)\n",
    "        elif op == '-':\n",
    "            return (value1 - value2)"
   ]
  },
  {
   "cell_type": "code",
   "execution_count": 219,
   "metadata": {},
   "outputs": [
    {
     "data": {
      "text/plain": [
       "11"
      ]
     },
     "execution_count": 219,
     "metadata": {},
     "output_type": "execute_result"
    }
   ],
   "source": [
    "basic_op('+', 4, 7)"
   ]
  },
  {
   "cell_type": "code",
   "execution_count": 220,
   "metadata": {},
   "outputs": [
    {
     "data": {
      "text/plain": [
       "-3"
      ]
     },
     "execution_count": 220,
     "metadata": {},
     "output_type": "execute_result"
    }
   ],
   "source": [
    "basic_op('-', 15, 18)"
   ]
  },
  {
   "cell_type": "code",
   "execution_count": 221,
   "metadata": {},
   "outputs": [
    {
     "data": {
      "text/plain": [
       "25"
      ]
     },
     "execution_count": 221,
     "metadata": {},
     "output_type": "execute_result"
    }
   ],
   "source": [
    "basic_op('*', 5, 5)"
   ]
  },
  {
   "cell_type": "code",
   "execution_count": 222,
   "metadata": {},
   "outputs": [
    {
     "data": {
      "text/plain": [
       "7.0"
      ]
     },
     "execution_count": 222,
     "metadata": {},
     "output_type": "execute_result"
    }
   ],
   "source": [
    "basic_op('/', 49, 7)"
   ]
  },
  {
   "cell_type": "markdown",
   "metadata": {},
   "source": [
    "### Create a function that takes an integer as an argument and returns \"Even\" for even numbers or \"Odd\" for odd numbers."
   ]
  },
  {
   "cell_type": "code",
   "execution_count": 225,
   "metadata": {},
   "outputs": [],
   "source": [
    "def even_or_odd(number):\n",
    "    return \"Even\" if number%2 == 0 else \"Odd\"\n",
    "    "
   ]
  },
  {
   "cell_type": "code",
   "execution_count": 226,
   "metadata": {},
   "outputs": [
    {
     "data": {
      "text/plain": [
       "'Odd'"
      ]
     },
     "execution_count": 226,
     "metadata": {},
     "output_type": "execute_result"
    }
   ],
   "source": [
    "even_or_odd(3)"
   ]
  },
  {
   "cell_type": "code",
   "execution_count": 346,
   "metadata": {},
   "outputs": [],
   "source": [
    "import re\n",
    "def song_decoder(song):\n",
    "    song_name =  re.sub(\"WUB\",\" \", song)\n",
    "    o_song = re.sub(r'\\s+', ' ',   song_name)\n",
    "    if o_song[0] == \" \" and o_song[-1] == \" \":\n",
    "        o_song = o_song[1:-1]\n",
    "    elif o_song[-1] == \" \":\n",
    "        o_song = o_song[0:-1]\n",
    "    elif o_song[0] == \" \":\n",
    "        o_song = o_song[1:]\n",
    "    return o_song"
   ]
  },
  {
   "cell_type": "code",
   "execution_count": 351,
   "metadata": {},
   "outputs": [
    {
     "data": {
      "text/plain": [
       "'A B C'"
      ]
     },
     "execution_count": 351,
     "metadata": {},
     "output_type": "execute_result"
    }
   ],
   "source": [
    "song_decoder(\"AWUBBWUBCWUB\")"
   ]
  },
  {
   "cell_type": "code",
   "execution_count": 352,
   "metadata": {},
   "outputs": [
    {
     "data": {
      "text/plain": [
       "'A B C'"
      ]
     },
     "execution_count": 352,
     "metadata": {},
     "output_type": "execute_result"
    }
   ],
   "source": [
    "song_decoder(\"AWUBWUBWUBBWUBWUBWUBC\")"
   ]
  },
  {
   "cell_type": "code",
   "execution_count": 353,
   "metadata": {},
   "outputs": [
    {
     "data": {
      "text/plain": [
       "'A B C'"
      ]
     },
     "execution_count": 353,
     "metadata": {},
     "output_type": "execute_result"
    }
   ],
   "source": [
    "song_decoder(\"WUBAWUBBWUBCWUB\")"
   ]
  },
  {
   "cell_type": "code",
   "execution_count": 350,
   "metadata": {},
   "outputs": [],
   "source": [
    "def song_decoder(song):\n",
    "    return \" \".join(song.replace('WUB', ' ').split())"
   ]
  },
  {
   "cell_type": "markdown",
   "metadata": {},
   "source": [
    "The new \"Avengers\" movie has just been released! There are a lot of people at the cinema box office standing in a huge line. Each of them has a single 100, 50 or 25 dollars bill. An \"Avengers\" ticket costs 25 dollars.\n",
    "\n",
    "Vasya is currently working as a clerk. He wants to sell a ticket to every single person in this line.\n",
    "\n",
    "Can Vasya sell a ticket to each person and give the change if he initially has no money and sells the tickets strictly in the order people follow in the line?\n",
    "\n",
    "Return YES, if Vasya can sell a ticket to each person and give the change with the bills he has at hand at that moment. Otherwise return NO.\n",
    "\n",
    "### Examples:\n",
    "\n",
    "    Python\n",
    "\n",
    "```tickets([25, 25, 50]) # => YES```\n",
    "\n",
    "```tickets([25, 100])  => NO. Vasya will not have enough money to give change to 100 dollars```"
   ]
  },
  {
   "cell_type": "code",
   "execution_count": 300,
   "metadata": {},
   "outputs": [],
   "source": [
    "def tickets(people):\n",
    "    cash = people[0]\n",
    "    money_back = [x-25 for x in people]\n",
    "    line = list(range(1,len(money_back)))\n",
    "    for num in line:\n",
    "        if people[0]>25:\n",
    "            return 'NO'\n",
    "        elif num%2 == 0 and cash >=0:\n",
    "            cash += money_back[num]\n",
    "            print(cash,money_back[num])\n",
    "        else:\n",
    "            cash -= money_back[num]\n",
    "            print(cash)\n",
    "    if cash <0:\n",
    "        return 'NO'\n",
    "    else:\n",
    "        return 'YES'"
   ]
  },
  {
   "cell_type": "code",
   "execution_count": 301,
   "metadata": {},
   "outputs": [
    {
     "name": "stdout",
     "output_type": "stream",
     "text": [
      "25\n",
      "25 0\n",
      "25\n",
      "50 25\n",
      "-25\n",
      "-50\n"
     ]
    },
    {
     "data": {
      "text/plain": [
       "'NO'"
      ]
     },
     "execution_count": 301,
     "metadata": {},
     "output_type": "execute_result"
    }
   ],
   "source": [
    "tickets([25, 25, 25, 25, 50, 100, 50])"
   ]
  },
  {
   "cell_type": "code",
   "execution_count": 263,
   "metadata": {},
   "outputs": [
    {
     "data": {
      "text/plain": [
       "0"
      ]
     },
     "execution_count": 263,
     "metadata": {},
     "output_type": "execute_result"
    }
   ],
   "source": [
    "sum([100, -100, 100, -100, 100, -100, 100, -100, 100, -100])"
   ]
  },
  {
   "cell_type": "code",
   "execution_count": 8,
   "metadata": {},
   "outputs": [],
   "source": [
    "def valid_parentheses(string):\n",
    "    p_count = 0\n",
    "    for x in string:\n",
    "        if x== '(' or x==')':\n",
    "            p_count += 1\n",
    "    if p_count%3 == 0:\n",
    "        return False\n"
   ]
  },
  {
   "cell_type": "code",
   "execution_count": 9,
   "metadata": {},
   "outputs": [],
   "source": [
    "valid_parentheses('(())')"
   ]
  },
  {
   "cell_type": "markdown",
   "metadata": {},
   "source": [
    "Your job is to write a function which increments a string, to create a new string. If the string already ends with a number, the number should be incremented by 1. If the string does not end with a number the number 1 should be appended to the new string.\n",
    "\n",
    "Examples:\n",
    "\n",
    "foo -> foo1\n",
    "\n",
    "foobar23 -> foobar24\n",
    "\n",
    "foo0042 -> foo0043\n",
    "\n",
    "foo9 -> foo10\n",
    "\n",
    "foo099 -> foo100\n",
    "\n",
    "Attention: If the number has leading zeros the amount of digits should be considered."
   ]
  },
  {
   "cell_type": "code",
   "execution_count": null,
   "metadata": {},
   "outputs": [],
   "source": [
    "def increment_string(strng):\n",
    "    return strng"
   ]
  }
 ],
 "metadata": {
  "kernelspec": {
   "display_name": "Python [conda env:anaconda3]",
   "language": "python",
   "name": "conda-env-anaconda3-py"
  },
  "language_info": {
   "codemirror_mode": {
    "name": "ipython",
    "version": 3
   },
   "file_extension": ".py",
   "mimetype": "text/x-python",
   "name": "python",
   "nbconvert_exporter": "python",
   "pygments_lexer": "ipython3",
   "version": "3.6.4"
  },
  "varInspector": {
   "cols": {
    "lenName": 16,
    "lenType": 16,
    "lenVar": 40
   },
   "kernels_config": {
    "python": {
     "delete_cmd_postfix": "",
     "delete_cmd_prefix": "del ",
     "library": "var_list.py",
     "varRefreshCmd": "print(var_dic_list())"
    },
    "r": {
     "delete_cmd_postfix": ") ",
     "delete_cmd_prefix": "rm(",
     "library": "var_list.r",
     "varRefreshCmd": "cat(var_dic_list()) "
    }
   },
   "types_to_exclude": [
    "module",
    "function",
    "builtin_function_or_method",
    "instance",
    "_Feature"
   ],
   "window_display": false
  }
 },
 "nbformat": 4,
 "nbformat_minor": 2
}
